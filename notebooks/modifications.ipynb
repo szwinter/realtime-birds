{
 "cells": [
  {
   "cell_type": "markdown",
   "id": "5790dd0d-05b8-4c5f-8937-62ffd982a547",
   "metadata": {},
   "source": [
    "# Adding Migration to Location Selection"
   ]
  },
  {
   "cell_type": "code",
   "execution_count": 1,
   "id": "97dae197-6bfd-431a-8e8a-98257e7fef0a",
   "metadata": {},
   "outputs": [],
   "source": [
    "import tqdm\n",
    "import pickle\n",
    "import numpy as np\n",
    "import pandas as pd\n",
    "\n",
    "import rasterio\n",
    "from rasterio.transform import Affine\n",
    "from rasterio.windows import from_bounds\n",
    "\n",
    "from scipy.stats import norm as scipy_norm"
   ]
  },
  {
   "cell_type": "code",
   "execution_count": 2,
   "id": "958c3eae-fed6-44ea-bcbb-0ebc687fcde7",
   "metadata": {},
   "outputs": [],
   "source": [
    "spnames = [\"actitis_hypoleucos\", \"spinus_spinus\", \"turdus_merula\", \"turdus_pilaris\"]\n",
    "p = len(spnames)"
   ]
  },
  {
   "cell_type": "code",
   "execution_count": 3,
   "id": "3193261b-abc5-4bf6-ab46-da1b6ae422c2",
   "metadata": {},
   "outputs": [
    {
     "data": {
      "text/plain": [
       "array([62.69955651, 62.69866953, 62.69778256, ..., 59.70245967,\n",
       "       59.70157269, 59.70068572])"
      ]
     },
     "execution_count": 3,
     "metadata": {},
     "output_type": "execute_result"
    }
   ],
   "source": [
    "#\n",
    "# This is only required to get lat_grid and height\n",
    "#\n",
    "min_lon, max_lon = 21, 30\n",
    "min_lat, max_lat = 59.7, 62.7\n",
    "map_path = \"/hpc/group/dunsonlab/szw3/finland/data/location_maps/\"+spnames[0]+\"_a.tif\"\n",
    "with rasterio.open(map_path) as src:\n",
    "    window = from_bounds(min_lon, min_lat, max_lon, max_lat, transform=src.transform)\n",
    "    a = src.read(1, window=window)\n",
    "    transform = src.window_transform(window)\n",
    "    height, width = a.shape[0], a.shape[1]\n",
    "\n",
    "ys = np.arange(height)\n",
    "_, lat_grid = rasterio.transform.xy(transform, ys, np.zeros_like(ys))\n",
    "lat_grid = np.array(lat_grid)\n",
    "\n",
    "lat_grid"
   ]
  },
  {
   "cell_type": "code",
   "execution_count": 4,
   "id": "9d13f529-c70c-4495-a37e-877c4a5f183d",
   "metadata": {},
   "outputs": [
    {
     "data": {
      "text/html": [
       "<div>\n",
       "<style scoped>\n",
       "    .dataframe tbody tr th:only-of-type {\n",
       "        vertical-align: middle;\n",
       "    }\n",
       "\n",
       "    .dataframe tbody tr th {\n",
       "        vertical-align: top;\n",
       "    }\n",
       "\n",
       "    .dataframe thead th {\n",
       "        text-align: right;\n",
       "    }\n",
       "</style>\n",
       "<table border=\"1\" class=\"dataframe\">\n",
       "  <thead>\n",
       "    <tr style=\"text-align: right;\">\n",
       "      <th></th>\n",
       "      <th>co.first.1</th>\n",
       "      <th>co.first.2</th>\n",
       "      <th>co.last.1</th>\n",
       "      <th>co.last.2</th>\n",
       "      <th>pm.first</th>\n",
       "      <th>pm.last</th>\n",
       "      <th>day1</th>\n",
       "      <th>day2</th>\n",
       "    </tr>\n",
       "  </thead>\n",
       "  <tbody>\n",
       "    <tr>\n",
       "      <th>chloris_chloris</th>\n",
       "      <td>-20.000000</td>\n",
       "      <td>0.000000</td>\n",
       "      <td>400.000000</td>\n",
       "      <td>0.000000</td>\n",
       "      <td>1.000000</td>\n",
       "      <td>1.000000</td>\n",
       "      <td>0.0</td>\n",
       "      <td>0.0</td>\n",
       "    </tr>\n",
       "    <tr>\n",
       "      <th>ficedula_hypoleuca</th>\n",
       "      <td>-9.585293</td>\n",
       "      <td>2.374318</td>\n",
       "      <td>192.044640</td>\n",
       "      <td>0.061587</td>\n",
       "      <td>25.267569</td>\n",
       "      <td>27.779167</td>\n",
       "      <td>0.0</td>\n",
       "      <td>0.0</td>\n",
       "    </tr>\n",
       "    <tr>\n",
       "      <th>turdus_iliacus</th>\n",
       "      <td>-258.374546</td>\n",
       "      <td>5.823682</td>\n",
       "      <td>775.810244</td>\n",
       "      <td>-8.392168</td>\n",
       "      <td>28.300215</td>\n",
       "      <td>70.618044</td>\n",
       "      <td>0.0</td>\n",
       "      <td>0.0</td>\n",
       "    </tr>\n",
       "    <tr>\n",
       "      <th>phylloscopus_trochilus</th>\n",
       "      <td>-56.348579</td>\n",
       "      <td>2.960777</td>\n",
       "      <td>588.817703</td>\n",
       "      <td>-6.016158</td>\n",
       "      <td>14.065667</td>\n",
       "      <td>48.763756</td>\n",
       "      <td>0.0</td>\n",
       "      <td>0.0</td>\n",
       "    </tr>\n",
       "    <tr>\n",
       "      <th>turdus_merula</th>\n",
       "      <td>-807.191935</td>\n",
       "      <td>13.315181</td>\n",
       "      <td>1135.277672</td>\n",
       "      <td>-12.671696</td>\n",
       "      <td>67.102577</td>\n",
       "      <td>94.550687</td>\n",
       "      <td>0.0</td>\n",
       "      <td>0.0</td>\n",
       "    </tr>\n",
       "  </tbody>\n",
       "</table>\n",
       "</div>"
      ],
      "text/plain": [
       "                        co.first.1  co.first.2    co.last.1  co.last.2  \\\n",
       "chloris_chloris         -20.000000    0.000000   400.000000   0.000000   \n",
       "ficedula_hypoleuca       -9.585293    2.374318   192.044640   0.061587   \n",
       "turdus_iliacus         -258.374546    5.823682   775.810244  -8.392168   \n",
       "phylloscopus_trochilus  -56.348579    2.960777   588.817703  -6.016158   \n",
       "turdus_merula          -807.191935   13.315181  1135.277672 -12.671696   \n",
       "\n",
       "                         pm.first    pm.last  day1  day2  \n",
       "chloris_chloris          1.000000   1.000000   0.0   0.0  \n",
       "ficedula_hypoleuca      25.267569  27.779167   0.0   0.0  \n",
       "turdus_iliacus          28.300215  70.618044   0.0   0.0  \n",
       "phylloscopus_trochilus  14.065667  48.763756   0.0   0.0  \n",
       "turdus_merula           67.102577  94.550687   0.0   0.0  "
      ]
     },
     "execution_count": 4,
     "metadata": {},
     "output_type": "execute_result"
    }
   ],
   "source": [
    "m_path = \"/hpc/group/dunsonlab/szw3/finland/data/migration_prior_params.pickle\"\n",
    "with open(m_path, \"rb\") as handle:\n",
    "    m_params = pickle.load(handle)\n",
    "index_style = dict(zip(m_params.index, [x.lower().replace(\" \", \"_\") for x in m_params.index]))\n",
    "m_params.rename(index=index_style, inplace=True)\n",
    "\n",
    "m_params.head()"
   ]
  },
  {
   "cell_type": "code",
   "execution_count": 5,
   "id": "1496d41c-c23d-435a-b363-4a008c532e6d",
   "metadata": {},
   "outputs": [],
   "source": [
    "#\n",
    "# can load this directly from model_utils instead\n",
    "#\n",
    "def m_numpy(lats, days, theta):\n",
    "    Z1 = (days - (theta[0] + theta[1]*lats))/(theta[4]/2)\n",
    "    Z2 = (days - (theta[2] + theta[3]*lats))/(theta[5]/2)\n",
    "    P1 = scipy_norm.cdf(Z1)\n",
    "    P2 = 1-scipy_norm.cdf(Z2)\n",
    "    return np.c_[P1, P2].min(axis=1)"
   ]
  },
  {
   "cell_type": "markdown",
   "id": "f3ecdcfc-ab12-40f9-a339-7190889fb0d1",
   "metadata": {},
   "source": [
    "# New code below\n",
    "\n",
    "The chunk below computes a [H, p] matrix of migration probabilities on a given day t. This should be run inside our main loop. We can prevent species which have not arrived from influencing the utility by zeroing out the corresponding entries of \\delta."
   ]
  },
  {
   "cell_type": "code",
   "execution_count": 6,
   "id": "c2f7cfba-aeb5-4863-b36c-deac361b068b",
   "metadata": {},
   "outputs": [
    {
     "name": "stderr",
     "output_type": "stream",
     "text": [
      "100%|██████████| 4/4 [00:00<00:00, 714.05it/s]\n"
     ]
    }
   ],
   "source": [
    "# starting date (May 1)\n",
    "jday_0 = 121\n",
    "\n",
    "# day of experiment\n",
    "t = 0\n",
    "\n",
    "m_mat = np.zeros([height, p])\n",
    "jday_t = jday_0 + t\n",
    "for j in tqdm.tqdm(range(p)):\n",
    "    theta_j = m_params.loc[spnames[j]][:6].to_numpy()\n",
    "    m_mat[:,j] = m_numpy(lat_grid, jday_t, theta_j)\n",
    "m_mask = m_mat > 0.5"
   ]
  },
  {
   "cell_type": "code",
   "execution_count": 7,
   "id": "0679722e-f435-4059-b8ae-bd73ba22f431",
   "metadata": {},
   "outputs": [
    {
     "ename": "NameError",
     "evalue": "name 'T' is not defined",
     "output_type": "error",
     "traceback": [
      "\u001b[0;31m---------------------------------------------------------------------------\u001b[0m",
      "\u001b[0;31mNameError\u001b[0m                                 Traceback (most recent call last)",
      "\u001b[0;32m<ipython-input-7-c81afa9c79b4>\u001b[0m in \u001b[0;36m<module>\u001b[0;34m\u001b[0m\n\u001b[1;32m      2\u001b[0m \u001b[0;31m# integration with the main loop below\u001b[0m\u001b[0;34m\u001b[0m\u001b[0;34m\u001b[0m\u001b[0;34m\u001b[0m\u001b[0m\n\u001b[1;32m      3\u001b[0m \u001b[0;31m#\u001b[0m\u001b[0;34m\u001b[0m\u001b[0;34m\u001b[0m\u001b[0;34m\u001b[0m\u001b[0m\n\u001b[0;32m----> 4\u001b[0;31m \u001b[0;32mfor\u001b[0m \u001b[0mt\u001b[0m \u001b[0;32min\u001b[0m \u001b[0mrange\u001b[0m\u001b[0;34m(\u001b[0m\u001b[0mT\u001b[0m\u001b[0;34m)\u001b[0m\u001b[0;34m:\u001b[0m\u001b[0;34m\u001b[0m\u001b[0;34m\u001b[0m\u001b[0m\n\u001b[0m\u001b[1;32m      5\u001b[0m     \u001b[0mm_mat\u001b[0m \u001b[0;34m=\u001b[0m \u001b[0mnp\u001b[0m\u001b[0;34m.\u001b[0m\u001b[0mzeros\u001b[0m\u001b[0;34m(\u001b[0m\u001b[0;34m[\u001b[0m\u001b[0mheight\u001b[0m\u001b[0;34m,\u001b[0m \u001b[0mp\u001b[0m\u001b[0;34m]\u001b[0m\u001b[0;34m)\u001b[0m\u001b[0;34m\u001b[0m\u001b[0;34m\u001b[0m\u001b[0m\n\u001b[1;32m      6\u001b[0m     \u001b[0mjday_t\u001b[0m \u001b[0;34m=\u001b[0m \u001b[0mjday_0\u001b[0m \u001b[0;34m+\u001b[0m \u001b[0mt\u001b[0m\u001b[0;34m\u001b[0m\u001b[0;34m\u001b[0m\u001b[0m\n",
      "\u001b[0;31mNameError\u001b[0m: name 'T' is not defined"
     ]
    }
   ],
   "source": [
    "#\n",
    "# integration with the main loop below\n",
    "#\n",
    "for t in range(T):    \n",
    "    m_mat = np.zeros([height, p])\n",
    "    jday_t = jday_0 + t\n",
    "    for j in range(p):\n",
    "        theta_j = m_params.loc[spnames[j]][:6].to_numpy()\n",
    "        m_mat[:,j] = m_numpy(lat_grid, jday_t, theta_j)\n",
    "    m_mask = m_mat > 0.5\n",
    "    delta_filtered = delta*m_mask[:,None,:]\n",
    "    \n",
    "    if t == 0:\n",
    "        U_active = np.sum(delta_filtered, axis=2)\n",
    "    else:\n",
    "        #\n",
    "        # ...\n",
    "        #\n",
    "        U_active = np.sum(delta_filtered*repulsion, axis=2)"
   ]
  },
  {
   "cell_type": "markdown",
   "id": "56f381e2-9bca-45e8-94a3-f26ee6417c6a",
   "metadata": {},
   "source": [
    "# Code for randomly choosing locations"
   ]
  },
  {
   "cell_type": "code",
   "execution_count": 8,
   "id": "718e9fc5-9488-46ba-93e8-812da7cc19a3",
   "metadata": {},
   "outputs": [
    {
     "ename": "NameError",
     "evalue": "name 'U_local' is not defined",
     "output_type": "error",
     "traceback": [
      "\u001b[0;31m---------------------------------------------------------------------------\u001b[0m",
      "\u001b[0;31mNameError\u001b[0m                                 Traceback (most recent call last)",
      "\u001b[0;32m<ipython-input-8-3bc379bd1d5f>\u001b[0m in \u001b[0;36m<module>\u001b[0;34m\u001b[0m\n\u001b[0;32m----> 1\u001b[0;31m \u001b[0mvalid_indices\u001b[0m \u001b[0;34m=\u001b[0m \u001b[0mnp\u001b[0m\u001b[0;34m.\u001b[0m\u001b[0margwhere\u001b[0m\u001b[0;34m(\u001b[0m\u001b[0mU_local\u001b[0m \u001b[0;34m>\u001b[0m \u001b[0;36m0\u001b[0m\u001b[0;34m)\u001b[0m\u001b[0;34m\u001b[0m\u001b[0;34m\u001b[0m\u001b[0m\n\u001b[0m\u001b[1;32m      2\u001b[0m \u001b[0mrow\u001b[0m\u001b[0;34m,\u001b[0m \u001b[0mcol\u001b[0m \u001b[0;34m=\u001b[0m \u001b[0mvalid_indices\u001b[0m\u001b[0;34m[\u001b[0m\u001b[0mnp\u001b[0m\u001b[0;34m.\u001b[0m\u001b[0mrandom\u001b[0m\u001b[0;34m.\u001b[0m\u001b[0mchoice\u001b[0m\u001b[0;34m(\u001b[0m\u001b[0mlen\u001b[0m\u001b[0;34m(\u001b[0m\u001b[0mvalid_indices\u001b[0m\u001b[0;34m)\u001b[0m\u001b[0;34m)\u001b[0m\u001b[0;34m]\u001b[0m\u001b[0;34m\u001b[0m\u001b[0;34m\u001b[0m\u001b[0m\n",
      "\u001b[0;31mNameError\u001b[0m: name 'U_local' is not defined"
     ]
    }
   ],
   "source": [
    "valid_indices = np.argwhere(U_local > 0)\n",
    "row, col = valid_indices[np.random.choice(len(valid_indices))]"
   ]
  },
  {
   "cell_type": "code",
   "execution_count": null,
   "id": "25774db7-331b-47ca-9473-f669e284de59",
   "metadata": {},
   "outputs": [],
   "source": []
  },
  {
   "cell_type": "code",
   "execution_count": null,
   "id": "c5b53578-005c-4916-8179-00c695b0f9b9",
   "metadata": {},
   "outputs": [],
   "source": []
  }
 ],
 "metadata": {
  "kernelspec": {
   "display_name": "Python 3 (ipykernel)",
   "language": "python",
   "name": "python3"
  },
  "language_info": {
   "codemirror_mode": {
    "name": "ipython",
    "version": 3
   },
   "file_extension": ".py",
   "mimetype": "text/x-python",
   "name": "python",
   "nbconvert_exporter": "python",
   "pygments_lexer": "ipython3",
   "version": "3.12.8"
  }
 },
 "nbformat": 4,
 "nbformat_minor": 5
}
