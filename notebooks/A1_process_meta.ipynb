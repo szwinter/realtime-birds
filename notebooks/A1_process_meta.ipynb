{
 "cells": [
  {
   "cell_type": "markdown",
   "id": "337a9f2b-bb1a-461a-8362-2dd0595b3a5b",
   "metadata": {},
   "source": [
    "# A1. Prepare XData"
   ]
  },
  {
   "cell_type": "code",
   "execution_count": null,
   "id": "6c828733-e0af-40b9-a882-0b79fc92f7e2",
   "metadata": {},
   "outputs": [],
   "source": [
    "import pickle\n",
    "import pyreadr\n",
    "import numpy as np\n",
    "import pandas as pd"
   ]
  },
  {
   "cell_type": "code",
   "execution_count": null,
   "id": "1c58d522-df11-474c-b8c6-f7090d709352",
   "metadata": {},
   "outputs": [],
   "source": [
    "# /data_path/ containing meta.RData, metadata from O2\n",
    "data_path = \"/hpc/group/dunsonlab/szw3/finland/data/\""
   ]
  },
  {
   "cell_type": "code",
   "execution_count": null,
   "id": "d490f5c1-b92c-4be8-9c34-01606b6ee59e",
   "metadata": {},
   "outputs": [],
   "source": [
    "meta = pyreadr.read_r(data_path + \"meta.RData\")\n",
    "XData = meta[\"XData\"]\n",
    "XData[\"log_duration\"] = np.log(XData[\"duration\"]+1e-6)\n",
    "XData[\"rec_class\"] = \"\"\n",
    "XData.loc[XData[\"rec_type\"] == \"point\", \"rec_class\"] = \"fixed\"\n",
    "XData.loc[(XData[\"duration\"] <= 300)&(XData[\"rec_type\"] != \"point\"), \"rec_class\"] = \"short\"\n",
    "XData.loc[(XData[\"duration\"] > 300)&(XData[\"rec_type\"] != \"point\"), \"rec_class\"] = \"long\"\n",
    "\n",
    "with open(data_path + \"XData.pickle\", \"wb\") as handle:\n",
    "    pickle.dump(XData, handle, protocol=pickle.HIGHEST_PROTOCOL)"
   ]
  },
  {
   "cell_type": "code",
   "execution_count": null,
   "id": "f727f082-066c-4fdc-bf7b-95abf9c0410b",
   "metadata": {},
   "outputs": [],
   "source": [
    "prior_params = meta[\"migration.pars\"]\n",
    "index_style = dict(zip(prior_params.index, [x.lower().replace(\" \", \"_\") for x in prior_params.index]))\n",
    "prior_params.rename(index=index_style, inplace=True)\n",
    "with open(data_path + \"migration_prior_params.pickle\", \"wb\") as handle:\n",
    "    pickle.dump(prior_params, handle, protocol=pickle.HIGHEST_PROTOCOL)"
   ]
  },
  {
   "cell_type": "code",
   "execution_count": null,
   "id": "ca98dcbf-a892-4adb-ae80-df0a2a8cdc8d",
   "metadata": {},
   "outputs": [],
   "source": []
  }
 ],
 "metadata": {
  "kernelspec": {
   "display_name": "Python 3 (ipykernel)",
   "language": "python",
   "name": "python3"
  },
  "language_info": {
   "codemirror_mode": {
    "name": "ipython",
    "version": 3
   },
   "file_extension": ".py",
   "mimetype": "text/x-python",
   "name": "python",
   "nbconvert_exporter": "python",
   "pygments_lexer": "ipython3",
   "version": "3.11.9"
  }
 },
 "nbformat": 4,
 "nbformat_minor": 5
}
