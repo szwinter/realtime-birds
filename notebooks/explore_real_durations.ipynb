{
 "cells": [
  {
   "cell_type": "code",
   "execution_count": 8,
   "id": "ae5ffbe1-6f51-46c9-a510-e3de41f7064c",
   "metadata": {},
   "outputs": [
    {
     "name": "stdout",
     "output_type": "stream",
     "text": [
      "Requirement already satisfied: pyreadr in /users/gtikhono/.local/lib/python3.12/site-packages (0.5.3)\n",
      "Requirement already satisfied: pandas>=1.2.0 in /usr/local/lib64/python3.12/site-packages (from pyreadr) (2.2.3)\n",
      "Requirement already satisfied: numpy>=1.26.0 in /usr/local/lib64/python3.12/site-packages (from pandas>=1.2.0->pyreadr) (1.26.4)\n",
      "Requirement already satisfied: python-dateutil>=2.8.2 in /usr/local/lib/python3.12/site-packages (from pandas>=1.2.0->pyreadr) (2.9.0.post0)\n",
      "Requirement already satisfied: pytz>=2020.1 in /usr/local/lib/python3.12/site-packages (from pandas>=1.2.0->pyreadr) (2025.2)\n",
      "Requirement already satisfied: tzdata>=2022.7 in /usr/local/lib/python3.12/site-packages (from pandas>=1.2.0->pyreadr) (2025.2)\n",
      "Requirement already satisfied: six>=1.5 in /usr/local/lib/python3.12/site-packages (from python-dateutil>=2.8.2->pandas>=1.2.0->pyreadr) (1.17.0)\n"
     ]
    }
   ],
   "source": [
    "!pip3 install --user  pyreadr"
   ]
  },
  {
   "cell_type": "code",
   "execution_count": 45,
   "id": "6b78c49f-e9a9-46b6-b648-0958e82fab82",
   "metadata": {},
   "outputs": [],
   "source": [
    "import pandas as pd\n",
    "import pyreadr\n",
    "import pickle\n",
    "import numpy as np\n",
    "from matplotlib import pyplot as plt"
   ]
  },
  {
   "cell_type": "code",
   "execution_count": 4,
   "id": "44ea9566-14d1-4be2-9bad-1326ed3d2d23",
   "metadata": {},
   "outputs": [],
   "source": [
    "path_project = \"/scratch/project_2003104/gtikhono/realtime_birds\"\n",
    "dir_orig_data = \"orig_data\"\n",
    "dir_data = \"data\""
   ]
  },
  {
   "cell_type": "code",
   "execution_count": 2,
   "id": "cc3d703c-14e6-495b-892b-7a414a7b9333",
   "metadata": {},
   "outputs": [],
   "source": [
    "speciesf = pd.read_csv(\"/scratch/project_2003104/gtikhono/realtime_birds/orig_data/MK_real_durations.csv\")"
   ]
  },
  {
   "cell_type": "code",
   "execution_count": 3,
   "id": "9a6a1427-ff04-4f02-898f-9ec8c358523e",
   "metadata": {},
   "outputs": [
    {
     "data": {
      "text/html": [
       "<div>\n",
       "<style scoped>\n",
       "    .dataframe tbody tr th:only-of-type {\n",
       "        vertical-align: middle;\n",
       "    }\n",
       "\n",
       "    .dataframe tbody tr th {\n",
       "        vertical-align: top;\n",
       "    }\n",
       "\n",
       "    .dataframe thead th {\n",
       "        text-align: right;\n",
       "    }\n",
       "</style>\n",
       "<table border=\"1\" class=\"dataframe\">\n",
       "  <thead>\n",
       "    <tr style=\"text-align: right;\">\n",
       "      <th></th>\n",
       "      <th>url</th>\n",
       "      <th>rec_id</th>\n",
       "      <th>real_duration</th>\n",
       "    </tr>\n",
       "  </thead>\n",
       "  <tbody>\n",
       "    <tr>\n",
       "      <th>0</th>\n",
       "      <td>https://2007581-bird-2.a3s.fi/8dae62dd-0316-41...</td>\n",
       "      <td>8dae62dd-0316-41e3-8826-d08391cb4272</td>\n",
       "      <td>37.8</td>\n",
       "    </tr>\n",
       "    <tr>\n",
       "      <th>1</th>\n",
       "      <td>https://2007581-bird-2.a3s.fi/060e5448-ef5a-49...</td>\n",
       "      <td>060e5448-ef5a-495d-ace6-4b82f64e9cf6</td>\n",
       "      <td>45.3</td>\n",
       "    </tr>\n",
       "    <tr>\n",
       "      <th>2</th>\n",
       "      <td>https://2007581-bird-2.a3s.fi/294b6ce6-42b9-48...</td>\n",
       "      <td>294b6ce6-42b9-4850-b645-00af0394677b</td>\n",
       "      <td>12.1</td>\n",
       "    </tr>\n",
       "    <tr>\n",
       "      <th>3</th>\n",
       "      <td>https://2007581-bird-2.a3s.fi/c87a13c3-42ad-4f...</td>\n",
       "      <td>c87a13c3-42ad-4fd1-89e1-b36b1047614f</td>\n",
       "      <td>8.0</td>\n",
       "    </tr>\n",
       "    <tr>\n",
       "      <th>4</th>\n",
       "      <td>https://2007581-bird-2.a3s.fi/ec5d480c-e3dd-49...</td>\n",
       "      <td>ec5d480c-e3dd-493c-ab12-8562f06c84d1</td>\n",
       "      <td>73.9</td>\n",
       "    </tr>\n",
       "  </tbody>\n",
       "</table>\n",
       "</div>"
      ],
      "text/plain": [
       "                                                 url  \\\n",
       "0  https://2007581-bird-2.a3s.fi/8dae62dd-0316-41...   \n",
       "1  https://2007581-bird-2.a3s.fi/060e5448-ef5a-49...   \n",
       "2  https://2007581-bird-2.a3s.fi/294b6ce6-42b9-48...   \n",
       "3  https://2007581-bird-2.a3s.fi/c87a13c3-42ad-4f...   \n",
       "4  https://2007581-bird-2.a3s.fi/ec5d480c-e3dd-49...   \n",
       "\n",
       "                                 rec_id  real_duration  \n",
       "0  8dae62dd-0316-41e3-8826-d08391cb4272           37.8  \n",
       "1  060e5448-ef5a-495d-ace6-4b82f64e9cf6           45.3  \n",
       "2  294b6ce6-42b9-4850-b645-00af0394677b           12.1  \n",
       "3  c87a13c3-42ad-4fd1-89e1-b36b1047614f            8.0  \n",
       "4  ec5d480c-e3dd-493c-ab12-8562f06c84d1           73.9  "
      ]
     },
     "execution_count": 3,
     "metadata": {},
     "output_type": "execute_result"
    }
   ],
   "source": [
    "df.head()"
   ]
  },
  {
   "cell_type": "code",
   "execution_count": 7,
   "id": "ed28a7ad-6e21-4d57-b7cb-6a91a9316b2a",
   "metadata": {},
   "outputs": [],
   "source": [
    "meta = pyreadr.read_r(os.path.join(path_project, dir_orig_data, \"meta.RData\"))"
   ]
  },
  {
   "cell_type": "code",
   "execution_count": 21,
   "id": "aad1f3e9-f2cc-4be9-8525-88e998faff90",
   "metadata": {},
   "outputs": [
    {
     "data": {
      "text/plain": [
       "odict_keys(['XData', 'cell.idx', 'migration.pars', 'singing.pars'])"
      ]
     },
     "execution_count": 21,
     "metadata": {},
     "output_type": "execute_result"
    }
   ],
   "source": [
    "meta.keys()"
   ]
  },
  {
   "cell_type": "code",
   "execution_count": 32,
   "id": "9d76061c-cd1e-4fff-a28e-be88debcb61f",
   "metadata": {},
   "outputs": [],
   "source": [
    "XData = meta[\"XData\"]"
   ]
  },
  {
   "cell_type": "code",
   "execution_count": 18,
   "id": "0580c0d3-2ff6-47b4-b388-f8514084610c",
   "metadata": {},
   "outputs": [
    {
     "data": {
      "text/html": [
       "<div>\n",
       "<style scoped>\n",
       "    .dataframe tbody tr th:only-of-type {\n",
       "        vertical-align: middle;\n",
       "    }\n",
       "\n",
       "    .dataframe tbody tr th {\n",
       "        vertical-align: top;\n",
       "    }\n",
       "\n",
       "    .dataframe thead th {\n",
       "        text-align: right;\n",
       "    }\n",
       "</style>\n",
       "<table border=\"1\" class=\"dataframe\">\n",
       "  <thead>\n",
       "    <tr style=\"text-align: right;\">\n",
       "      <th></th>\n",
       "      <th>j.date</th>\n",
       "      <th>hr</th>\n",
       "      <th>duration</th>\n",
       "      <th>rec_type</th>\n",
       "      <th>lon</th>\n",
       "      <th>lat</th>\n",
       "      <th>user</th>\n",
       "    </tr>\n",
       "  </thead>\n",
       "  <tbody>\n",
       "    <tr>\n",
       "      <th>0</th>\n",
       "      <td>85.0</td>\n",
       "      <td>17.358620</td>\n",
       "      <td>15.902927</td>\n",
       "      <td></td>\n",
       "      <td>26.831872</td>\n",
       "      <td>64.552742</td>\n",
       "      <td>user_311872</td>\n",
       "    </tr>\n",
       "    <tr>\n",
       "      <th>1</th>\n",
       "      <td>85.0</td>\n",
       "      <td>17.455561</td>\n",
       "      <td>0.999512</td>\n",
       "      <td></td>\n",
       "      <td>26.831815</td>\n",
       "      <td>64.552741</td>\n",
       "      <td>user_311872</td>\n",
       "    </tr>\n",
       "    <tr>\n",
       "      <th>2</th>\n",
       "      <td>86.0</td>\n",
       "      <td>8.976955</td>\n",
       "      <td>5.015732</td>\n",
       "      <td></td>\n",
       "      <td>26.831845</td>\n",
       "      <td>64.552735</td>\n",
       "      <td>user_311872</td>\n",
       "    </tr>\n",
       "    <tr>\n",
       "      <th>3</th>\n",
       "      <td>86.0</td>\n",
       "      <td>9.056117</td>\n",
       "      <td>17.095000</td>\n",
       "      <td></td>\n",
       "      <td>26.831824</td>\n",
       "      <td>64.552740</td>\n",
       "      <td>user_311872</td>\n",
       "    </tr>\n",
       "    <tr>\n",
       "      <th>4</th>\n",
       "      <td>86.0</td>\n",
       "      <td>9.072506</td>\n",
       "      <td>8.749512</td>\n",
       "      <td></td>\n",
       "      <td>26.831907</td>\n",
       "      <td>64.552695</td>\n",
       "      <td>user_311872</td>\n",
       "    </tr>\n",
       "  </tbody>\n",
       "</table>\n",
       "</div>"
      ],
      "text/plain": [
       "   j.date         hr   duration rec_type        lon        lat         user\n",
       "0    85.0  17.358620  15.902927           26.831872  64.552742  user_311872\n",
       "1    85.0  17.455561   0.999512           26.831815  64.552741  user_311872\n",
       "2    86.0   8.976955   5.015732           26.831845  64.552735  user_311872\n",
       "3    86.0   9.056117  17.095000           26.831824  64.552740  user_311872\n",
       "4    86.0   9.072506   8.749512           26.831907  64.552695  user_311872"
      ]
     },
     "execution_count": 18,
     "metadata": {},
     "output_type": "execute_result"
    }
   ],
   "source": [
    "meta[\"XData\"].head()"
   ]
  },
  {
   "cell_type": "code",
   "execution_count": 20,
   "id": "3a52f88c-4a95-4a16-8a12-4d9dfeadc873",
   "metadata": {},
   "outputs": [
    {
     "data": {
      "text/plain": [
       "(8922636, 7)"
      ]
     },
     "execution_count": 20,
     "metadata": {},
     "output_type": "execute_result"
    }
   ],
   "source": [
    "meta[\"XData\"].shape"
   ]
  },
  {
   "cell_type": "code",
   "execution_count": 22,
   "id": "1212168f-0bca-4dd5-83e3-9ce758aa25fb",
   "metadata": {},
   "outputs": [
    {
     "data": {
      "text/html": [
       "<div>\n",
       "<style scoped>\n",
       "    .dataframe tbody tr th:only-of-type {\n",
       "        vertical-align: middle;\n",
       "    }\n",
       "\n",
       "    .dataframe tbody tr th {\n",
       "        vertical-align: top;\n",
       "    }\n",
       "\n",
       "    .dataframe thead th {\n",
       "        text-align: right;\n",
       "    }\n",
       "</style>\n",
       "<table border=\"1\" class=\"dataframe\">\n",
       "  <thead>\n",
       "    <tr style=\"text-align: right;\">\n",
       "      <th></th>\n",
       "      <th>co.first.1</th>\n",
       "      <th>co.first.2</th>\n",
       "      <th>co.last.1</th>\n",
       "      <th>co.last.2</th>\n",
       "      <th>pm.first</th>\n",
       "      <th>pm.last</th>\n",
       "      <th>day1</th>\n",
       "      <th>day2</th>\n",
       "    </tr>\n",
       "  </thead>\n",
       "  <tbody>\n",
       "    <tr>\n",
       "      <th>Chloris chloris</th>\n",
       "      <td>-20.000000</td>\n",
       "      <td>0.000000</td>\n",
       "      <td>400.000000</td>\n",
       "      <td>0.000000</td>\n",
       "      <td>1.000000</td>\n",
       "      <td>1.000000</td>\n",
       "      <td>0.0</td>\n",
       "      <td>0.0</td>\n",
       "    </tr>\n",
       "    <tr>\n",
       "      <th>Ficedula hypoleuca</th>\n",
       "      <td>-9.585293</td>\n",
       "      <td>2.374318</td>\n",
       "      <td>192.044640</td>\n",
       "      <td>0.061587</td>\n",
       "      <td>25.267569</td>\n",
       "      <td>27.779167</td>\n",
       "      <td>0.0</td>\n",
       "      <td>0.0</td>\n",
       "    </tr>\n",
       "    <tr>\n",
       "      <th>Turdus iliacus</th>\n",
       "      <td>-258.374546</td>\n",
       "      <td>5.823682</td>\n",
       "      <td>775.810244</td>\n",
       "      <td>-8.392168</td>\n",
       "      <td>28.300215</td>\n",
       "      <td>70.618044</td>\n",
       "      <td>0.0</td>\n",
       "      <td>0.0</td>\n",
       "    </tr>\n",
       "    <tr>\n",
       "      <th>Phylloscopus trochilus</th>\n",
       "      <td>-56.348579</td>\n",
       "      <td>2.960777</td>\n",
       "      <td>588.817703</td>\n",
       "      <td>-6.016158</td>\n",
       "      <td>14.065667</td>\n",
       "      <td>48.763756</td>\n",
       "      <td>0.0</td>\n",
       "      <td>0.0</td>\n",
       "    </tr>\n",
       "    <tr>\n",
       "      <th>Turdus merula</th>\n",
       "      <td>-807.191935</td>\n",
       "      <td>13.315181</td>\n",
       "      <td>1135.277672</td>\n",
       "      <td>-12.671696</td>\n",
       "      <td>67.102577</td>\n",
       "      <td>94.550687</td>\n",
       "      <td>0.0</td>\n",
       "      <td>0.0</td>\n",
       "    </tr>\n",
       "  </tbody>\n",
       "</table>\n",
       "</div>"
      ],
      "text/plain": [
       "                        co.first.1  co.first.2    co.last.1  co.last.2  \\\n",
       "Chloris chloris         -20.000000    0.000000   400.000000   0.000000   \n",
       "Ficedula hypoleuca       -9.585293    2.374318   192.044640   0.061587   \n",
       "Turdus iliacus         -258.374546    5.823682   775.810244  -8.392168   \n",
       "Phylloscopus trochilus  -56.348579    2.960777   588.817703  -6.016158   \n",
       "Turdus merula          -807.191935   13.315181  1135.277672 -12.671696   \n",
       "\n",
       "                         pm.first    pm.last  day1  day2  \n",
       "Chloris chloris          1.000000   1.000000   0.0   0.0  \n",
       "Ficedula hypoleuca      25.267569  27.779167   0.0   0.0  \n",
       "Turdus iliacus          28.300215  70.618044   0.0   0.0  \n",
       "Phylloscopus trochilus  14.065667  48.763756   0.0   0.0  \n",
       "Turdus merula           67.102577  94.550687   0.0   0.0  "
      ]
     },
     "execution_count": 22,
     "metadata": {},
     "output_type": "execute_result"
    }
   ],
   "source": [
    "meta[\"migration.pars\"].head()"
   ]
  },
  {
   "cell_type": "code",
   "execution_count": 28,
   "id": "de34bc11-0fa6-4705-ae9a-19133874fa25",
   "metadata": {},
   "outputs": [],
   "source": [
    "with open(\"/scratch/project_2003104/gtikhono/realtime_birds/data/species/acanthis_flammea/acanthis_flammea_prior.pickle\", 'rb') as handle:\n",
    "    species = pickle.load(handle)"
   ]
  },
  {
   "cell_type": "code",
   "execution_count": 29,
   "id": "12c215fe-dc44-4f1a-bb03-faa56c24806d",
   "metadata": {},
   "outputs": [
    {
     "data": {
      "text/html": [
       "<div>\n",
       "<style scoped>\n",
       "    .dataframe tbody tr th:only-of-type {\n",
       "        vertical-align: middle;\n",
       "    }\n",
       "\n",
       "    .dataframe tbody tr th {\n",
       "        vertical-align: top;\n",
       "    }\n",
       "\n",
       "    .dataframe thead th {\n",
       "        text-align: right;\n",
       "    }\n",
       "</style>\n",
       "<table border=\"1\" class=\"dataframe\">\n",
       "  <thead>\n",
       "    <tr style=\"text-align: right;\">\n",
       "      <th></th>\n",
       "      <th>y</th>\n",
       "      <th>prior.m</th>\n",
       "      <th>prior.s</th>\n",
       "      <th>prior.d</th>\n",
       "      <th>prior.d.a</th>\n",
       "      <th>prior.d.b</th>\n",
       "      <th>prior.d.u</th>\n",
       "      <th>complete</th>\n",
       "    </tr>\n",
       "  </thead>\n",
       "  <tbody>\n",
       "    <tr>\n",
       "      <th>0</th>\n",
       "      <td>0.0</td>\n",
       "      <td>1.0</td>\n",
       "      <td>0.116444</td>\n",
       "      <td>0.365832</td>\n",
       "      <td>0.365832</td>\n",
       "      <td>0.0</td>\n",
       "      <td>0.0</td>\n",
       "      <td>True</td>\n",
       "    </tr>\n",
       "    <tr>\n",
       "      <th>1</th>\n",
       "      <td>0.0</td>\n",
       "      <td>1.0</td>\n",
       "      <td>0.112878</td>\n",
       "      <td>0.365832</td>\n",
       "      <td>0.365832</td>\n",
       "      <td>0.0</td>\n",
       "      <td>0.0</td>\n",
       "      <td>True</td>\n",
       "    </tr>\n",
       "    <tr>\n",
       "      <th>2</th>\n",
       "      <td>0.0</td>\n",
       "      <td>1.0</td>\n",
       "      <td>0.276929</td>\n",
       "      <td>0.365832</td>\n",
       "      <td>0.365832</td>\n",
       "      <td>0.0</td>\n",
       "      <td>0.0</td>\n",
       "      <td>True</td>\n",
       "    </tr>\n",
       "    <tr>\n",
       "      <th>3</th>\n",
       "      <td>0.0</td>\n",
       "      <td>1.0</td>\n",
       "      <td>0.274384</td>\n",
       "      <td>0.365832</td>\n",
       "      <td>0.365832</td>\n",
       "      <td>0.0</td>\n",
       "      <td>0.0</td>\n",
       "      <td>True</td>\n",
       "    </tr>\n",
       "    <tr>\n",
       "      <th>4</th>\n",
       "      <td>0.0</td>\n",
       "      <td>1.0</td>\n",
       "      <td>0.273868</td>\n",
       "      <td>0.365832</td>\n",
       "      <td>0.365832</td>\n",
       "      <td>0.0</td>\n",
       "      <td>0.0</td>\n",
       "      <td>True</td>\n",
       "    </tr>\n",
       "  </tbody>\n",
       "</table>\n",
       "</div>"
      ],
      "text/plain": [
       "     y  prior.m   prior.s   prior.d  prior.d.a  prior.d.b  prior.d.u  complete\n",
       "0  0.0      1.0  0.116444  0.365832   0.365832        0.0        0.0      True\n",
       "1  0.0      1.0  0.112878  0.365832   0.365832        0.0        0.0      True\n",
       "2  0.0      1.0  0.276929  0.365832   0.365832        0.0        0.0      True\n",
       "3  0.0      1.0  0.274384  0.365832   0.365832        0.0        0.0      True\n",
       "4  0.0      1.0  0.273868  0.365832   0.365832        0.0        0.0      True"
      ]
     },
     "execution_count": 29,
     "metadata": {},
     "output_type": "execute_result"
    }
   ],
   "source": [
    "species.head()"
   ]
  },
  {
   "cell_type": "code",
   "execution_count": null,
   "id": "14d7e270-8c9e-407a-ad3c-a436d8cd5ca3",
   "metadata": {},
   "outputs": [],
   "source": [
    "sp_list = os.listdir(os.path.join(path_project, dir_data, \"species\"))\n",
    "sp_list.sort()"
   ]
  },
  {
   "cell_type": "code",
   "execution_count": null,
   "id": "1c321cbf-6124-4156-bd3e-1597450a9601",
   "metadata": {},
   "outputs": [],
   "source": [
    "for j, sp in enumerate(sp_list):\n",
    "    path_sp = os.path.join(path_project, dir_data, \"species\", sp)\n",
    "    with open(os.path.join(path_sp, sp+\"_prior.pickle\"), 'rb') as handle:\n",
    "        species = pickle.load(handle)\n",
    "    plt.scatter(XData[\"j.date\"], species[\"prior.d.u\"])\n",
    "    plt.ylim([0, 1])\n",
    "    plt.title(\"%.3d %s\"%(j, sp))\n",
    "    plt.show()"
   ]
  },
  {
   "cell_type": "code",
   "execution_count": 47,
   "id": "9c969c09-e26f-4ef2-b5a2-15cb6ad40774",
   "metadata": {},
   "outputs": [
    {
     "data": {
      "image/png": "[encoded data removed]",
      "text/plain": [
       "<Figure size 640x480 with 1 Axes>"
      ]
     },
     "metadata": {},
     "output_type": "display_data"
    }
   ],
   "source": [
    "j = 3\n",
    "sp = sp_list[3]\n",
    "with open(os.path.join(path_project, dir_data, \"migration_prior_params.pickle\"), 'rb') as handle:\n",
    "  prior_m_params = pickle.load(handle)\n",
    "prior_m_params.loc[sp]\n",
    "days = XData[\"j.date\"].to_numpy() # in {1,...,730}, but later migration model expects values in {1,...,365}. Use days%365!\n",
    "use_a = np.logical_and(days % 365 > prior_m_params.loc[sp][\"day1\"], days % 365 < prior_m_params.loc[sp][\"day2\"])\n",
    "plt.scatter(XData[\"j.date\"], use_a)\n",
    "plt.show()"
   ]
  },
  {
   "cell_type": "code",
   "execution_count": null,
   "id": "f4b77e21-e381-48b1-9c38-69339e5e624c",
   "metadata": {},
   "outputs": [],
   "source": []
  }
 ],
 "metadata": {
  "kernelspec": {
   "display_name": "Python 3 (ipykernel)",
   "language": "python",
   "name": "python3"
  },
  "language_info": {
   "codemirror_mode": {
    "name": "ipython",
    "version": 3
   },
   "file_extension": ".py",
   "mimetype": "text/x-python",
   "name": "python",
   "nbconvert_exporter": "python",
   "pygments_lexer": "ipython3",
   "version": "3.12.8"
  }
 },
 "nbformat": 4,
 "nbformat_minor": 5
}
