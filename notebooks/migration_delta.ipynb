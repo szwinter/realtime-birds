{
 "cells": [
  {
   "cell_type": "code",
   "execution_count": null,
   "id": "e5d5713b-6097-457e-8879-b55c9323bffb",
   "metadata": {},
   "outputs": [],
   "source": [
    "import re\n",
    "import io\n",
    "import os\n",
    "import tqdm\n",
    "import numpy as np\n",
    "import pandas as pd\n",
    "import imageio.v2 as imageio\n",
    "from matplotlib import pyplot as plt\n",
    "\n",
    "from itertools import product\n",
    "\n",
    "from scipy.stats import norm as scipy_norm"
   ]
  },
  {
   "cell_type": "code",
   "execution_count": null,
   "id": "4caeb2a7-86e8-4b1e-8568-f64543124bf9",
   "metadata": {},
   "outputs": [],
   "source": [
    "def m_numpy(lats, days, theta):\n",
    "    Z1 = (days - (theta[0] + theta[1]*lats))/(theta[4]/2)\n",
    "    Z2 = (days - (theta[2] + theta[3]*lats))/(theta[5]/2)\n",
    "    P1 = scipy_norm.cdf(Z1)\n",
    "    P2 = 1-scipy_norm.cdf(Z2)\n",
    "    return np.c_[P1, P2].min(axis=1)\n",
    "    \n",
    "path = \"/scratch/project_2003104/gtikhono/realtime_birds/export/\"\n",
    "spnames = os.listdir(path)\n",
    "p = len(spnames)\n",
    "\n",
    "grid_vec = np.array(list(product(np.arange(60.0, 70.0, 1), np.arange(1.0, 366.0, 10))))"
   ]
  },
  {
   "cell_type": "code",
   "execution_count": null,
   "id": "b2a9bba6-9e65-420c-9a2c-3ea34dfe59f6",
   "metadata": {
    "scrolled": true
   },
   "outputs": [],
   "source": [
    "res = {}\n",
    "\n",
    "for j in tqdm.tqdm(range(p)):\n",
    "    sp = spnames[j]\n",
    "    # print(sp)\n",
    "    spdir = path+sp+\"/\"\n",
    "    fnames = os.listdir(spdir)\n",
    "    par_dict = {}\n",
    "    for f in fnames:\n",
    "        match = re.search(r'_mig\\((\\d+_\\d+)\\)', f)\n",
    "        mig_range = match.group(1)\n",
    "        days = [int(x) for x in mig_range.split(\"_\")]\n",
    "        pars = pd.read_csv(spdir + f)\n",
    "        pars = pars.T\n",
    "        pars = pars[0]\n",
    "        par_dict[days[1]] = pars\n",
    "    par_df = pd.DataFrame.from_dict(par_dict, orient='index')\n",
    "\n",
    "    M_arr = np.array([m_numpy(grid_vec[:,0], grid_vec[:,1], par_df.iloc[t].values) for t in range(len(par_df))])\n",
    "    R_list = np.mean(np.square(np.diff(M_arr, axis=0)), axis=1)\n",
    "    T = len(R_list)\n",
    "    xs = 7*np.array(range(T))\n",
    "\n",
    "    res[sp] = R_list"
   ]
  },
  {
   "cell_type": "code",
   "execution_count": null,
   "id": "63bd4b60-f5da-49d8-8230-ab5c8c6cf014",
   "metadata": {},
   "outputs": [],
   "source": [
    "R = pd.DataFrame(res).T"
   ]
  },
  {
   "cell_type": "code",
   "execution_count": null,
   "id": "69e4da99-490f-4643-aedf-4036ab553053",
   "metadata": {},
   "outputs": [],
   "source": [
    "R.T.plot(legend=False)"
   ]
  },
  {
   "cell_type": "code",
   "execution_count": null,
   "id": "44e0c9ce-2b4e-41d7-9440-905f10e2dcbd",
   "metadata": {},
   "outputs": [],
   "source": [
    "idx = R.max(axis=1).sort_values(ascending=False).head(10).index\n",
    "R.loc[idx].T.plot()"
   ]
  },
  {
   "cell_type": "code",
   "execution_count": null,
   "id": "db33722d-d0df-41d6-8f8f-5bd0f7ff3f9c",
   "metadata": {},
   "outputs": [],
   "source": [
    "R.max(axis=1).sort_values(ascending=False).hist(bins=20)"
   ]
  },
  {
   "cell_type": "code",
   "execution_count": null,
   "id": "d0dd2535-f256-4adc-991e-4a162d48eff2",
   "metadata": {},
   "outputs": [],
   "source": [
    "R.max(axis=1).quantile(0.9)"
   ]
  },
  {
   "cell_type": "code",
   "execution_count": null,
   "id": "3ed6fe51-5960-4b0b-9894-feddd9ca239b",
   "metadata": {},
   "outputs": [],
   "source": [
    "# R.max(axis=1).quantile(q) for q in [0.75, 0.8, 0.9]"
   ]
  },
  {
   "cell_type": "code",
   "execution_count": null,
   "id": "69a94911-0c76-435c-9b42-59ba01c1b0fb",
   "metadata": {},
   "outputs": [],
   "source": [
    "R.max(axis=1).sort_values(ascending=False).round(3).head(50)"
   ]
  },
  {
   "cell_type": "markdown",
   "id": "780d5604-5880-4a75-896d-8147e8d0fecf",
   "metadata": {},
   "source": [
    "# Idea 1\n",
    "\n",
    "# Smaller learning rate for all or problematic species?\n",
    "\n",
    "# If smaller learning rate, then probably need to initialize at previous value?\n",
    "# Maybe more steps, maybe not"
   ]
  },
  {
   "cell_type": "markdown",
   "id": "6185a2b7-4622-4c9c-9f0d-d3b03143c153",
   "metadata": {},
   "source": [
    "# Idea 2\n",
    "# Truncate with thresholds: 0.005, 0.01, 0.015,...., 0.0075???\n",
    "# Change to check if step would break, then stay at last value if true"
   ]
  },
  {
   "cell_type": "code",
   "execution_count": null,
   "id": "bd8855e9-3cb5-4b5f-a5bb-3a33c5a04530",
   "metadata": {},
   "outputs": [],
   "source": [
    "R[R.max(axis=1) >= 0.005].index"
   ]
  },
  {
   "cell_type": "code",
   "execution_count": null,
   "id": "de48abd2-d1b1-4a8c-8968-883bfd8ae3c6",
   "metadata": {},
   "outputs": [],
   "source": [
    "R[R.max(axis=1) >= 0.0075].index"
   ]
  },
  {
   "cell_type": "code",
   "execution_count": null,
   "id": "5fd5c85a-1269-462e-b425-9b9a14dd90c8",
   "metadata": {},
   "outputs": [],
   "source": [
    "R[R.max(axis=1) >= 0.01].index"
   ]
  },
  {
   "cell_type": "code",
   "execution_count": null,
   "id": "f565e896-dbe9-4d3a-8400-8838a78e684a",
   "metadata": {},
   "outputs": [],
   "source": [
    "R[R.max(axis=1) >= 0.0125].index"
   ]
  },
  {
   "cell_type": "code",
   "execution_count": null,
   "id": "8fa1f30f-ff41-4ae6-bb6e-df62ef14a583",
   "metadata": {},
   "outputs": [],
   "source": [
    "R[R.max(axis=1) >= 0.015].index"
   ]
  },
  {
   "cell_type": "code",
   "execution_count": null,
   "id": "400abdd7-943c-490d-a82d-16443265b136",
   "metadata": {},
   "outputs": [],
   "source": []
  },
  {
   "cell_type": "markdown",
   "id": "d1cc44de-5696-4edd-a825-aad97f0f6507",
   "metadata": {},
   "source": [
    "# Timeline\n",
    "\n",
    "# 2025 results by friday (fitting on all data, including maps + migration parameters)\n",
    "\n",
    "# updated/final walk-forward on 2024 with idea 1 (and idea 2 on some species??) at 1 week resolution, ideally Friday\n",
    "\n",
    "# 2025 real experiment, hopefully by Tuesday morning"
   ]
  },
  {
   "cell_type": "code",
   "execution_count": null,
   "id": "62257598-6406-494a-b17c-6a86287c35fe",
   "metadata": {},
   "outputs": [],
   "source": []
  }
 ],
 "metadata": {
  "kernelspec": {
   "display_name": "Python 3 (ipykernel)",
   "language": "python",
   "name": "python3"
  },
  "language_info": {
   "codemirror_mode": {
    "name": "ipython",
    "version": 3
   },
   "file_extension": ".py",
   "mimetype": "text/x-python",
   "name": "python",
   "nbconvert_exporter": "python",
   "pygments_lexer": "ipython3",
   "version": "3.12.8"
  }
 },
 "nbformat": 4,
 "nbformat_minor": 5
}
